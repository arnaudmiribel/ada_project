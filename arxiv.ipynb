{
 "cells": [
  {
   "cell_type": "code",
   "execution_count": 16,
   "metadata": {
    "collapsed": true
   },
   "outputs": [],
   "source": [
    "import requests\n",
    "import urllib.parse\n",
    "from bs4 import BeautifulSoup"
   ]
  },
  {
   "cell_type": "code",
   "execution_count": 18,
   "metadata": {
    "collapsed": false
   },
   "outputs": [],
   "source": [
    "my_query = urllib.parse.quote_plus(\"Ecole Polytechnique Fédérale de Lausanne\", safe='')"
   ]
  },
  {
   "cell_type": "code",
   "execution_count": 19,
   "metadata": {
    "collapsed": false
   },
   "outputs": [
    {
     "data": {
      "text/plain": [
       "'Ecole+Polytechnique+F%C3%A9d%C3%A9rale+de+Lausanne'"
      ]
     },
     "execution_count": 19,
     "metadata": {},
     "output_type": "execute_result"
    }
   ],
   "source": [
    "my_query"
   ]
  },
  {
   "cell_type": "code",
   "execution_count": 20,
   "metadata": {
    "collapsed": false
   },
   "outputs": [
    {
     "name": "stdout",
     "output_type": "stream",
     "text": [
      "<Response [200]>\n"
     ]
    }
   ],
   "source": [
    "url = 'http://export.arxiv.org/api/query?search_query={}&start=0&max_results=10'.format(my_query)\n",
    "data = requests.get(url)\n",
    "print(data)"
   ]
  },
  {
   "cell_type": "code",
   "execution_count": 21,
   "metadata": {
    "collapsed": false
   },
   "outputs": [],
   "source": [
    "soup = BeautifulSoup(data.text, \"xml\")"
   ]
  },
  {
   "cell_type": "code",
   "execution_count": 22,
   "metadata": {
    "collapsed": false
   },
   "outputs": [
    {
     "name": "stdout",
     "output_type": "stream",
     "text": [
      "<?xml version=\"1.0\" encoding=\"utf-8\"?>\n",
      "<feed xmlns=\"http://www.w3.org/2005/Atom\">\n",
      " <link href=\"http://arxiv.org/api/query?search_query%3DEcole%20Polytechnique%20F%C3%A9d%C3%A9rale%20de%20Lausanne%26id_list%3D%26start%3D0%26max_results%3D10\" rel=\"self\" type=\"application/atom+xml\"/>\n",
      " <title type=\"html\">\n",
      "  ArXiv Query: search_query=Ecole Polytechnique Fédérale de Lausanne&amp;id_list=&amp;start=0&amp;max_results=10\n",
      " </title>\n",
      " <id>\n",
      "  http://arxiv.org/api/cwrNr0BwGObcbdhTHZSGQGzCjKo\n",
      " </id>\n",
      " <updated>\n",
      "  2016-12-07T00:00:00-05:00\n",
      " </updated>\n",
      " <totalResults>\n",
      "  64826\n",
      " </totalResults>\n",
      " <startIndex>\n",
      "  0\n",
      " </startIndex>\n",
      " <itemsPerPage>\n",
      "  10\n",
      " </itemsPerPage>\n",
      " <entry>\n",
      "  <id>\n",
      "   http://arxiv.org/abs/1608.03324v1\n",
      "  </id>\n",
      "  <updated>\n",
      "   2016-08-11T00:26:15Z\n",
      "  </updated>\n",
      "  <published>\n",
      "   2016-08-11T00:26:15Z\n",
      "  </published>\n",
      "  <title>\n",
      "   Architecture Diagrams: A Graphical Language for Architecture Style\n",
      "  Specification\n",
      "  </title>\n",
      "  <summary>\n",
      "   Architecture styles characterise families of architectures sharing common\n",
      "characteristics. We have recently proposed configuration logics for\n",
      "architecture style specification. In this paper, we study a graphical notation\n",
      "to enhance readability and easiness of expression. We study simple architecture\n",
      "diagrams and a more expressive extension, interval architecture diagrams. For\n",
      "each type of diagrams, we present its semantics, a set of necessary and\n",
      "sufficient consistency conditions and a method that allows to characterise\n",
      "compositionally the specified architectures. We provide several examples\n",
      "illustrating the application of the results. We also present a polynomial-time\n",
      "algorithm for checking that a given architecture conforms to the architecture\n",
      "style specified by a diagram.\n",
      "  </summary>\n",
      "  <author>\n",
      "   <name>\n",
      "    Anastasia Mavridou\n",
      "   </name>\n",
      "   <affiliation>\n",
      "    École polytechnique fédérale de Lausanne\n",
      "   </affiliation>\n",
      "  </author>\n",
      "  <author>\n",
      "   <name>\n",
      "    Eduard Baranov\n",
      "   </name>\n",
      "   <affiliation>\n",
      "    École polytechnique fédérale de Lausanne\n",
      "   </affiliation>\n",
      "  </author>\n",
      "  <author>\n",
      "   <name>\n",
      "    Simon Bliudze\n",
      "   </name>\n",
      "   <affiliation>\n",
      "    École polytechnique fédérale de Lausanne\n",
      "   </affiliation>\n",
      "  </author>\n",
      "  <author>\n",
      "   <name>\n",
      "    Joseph Sifakis\n",
      "   </name>\n",
      "   <affiliation>\n",
      "    École polytechnique fédérale de Lausanne\n",
      "   </affiliation>\n",
      "  </author>\n",
      "  <doi>\n",
      "   10.4204/EPTCS.223.6\n",
      "  </doi>\n",
      "  <link href=\"http://dx.doi.org/10.4204/EPTCS.223.6\" rel=\"related\" title=\"doi\"/>\n",
      "  <comment>\n",
      "   In Proceedings ICE 2016, arXiv:1608.03131\n",
      "  </comment>\n",
      "  <journal_ref>\n",
      "   EPTCS 223, 2016, pp. 83-97\n",
      "  </journal_ref>\n",
      "  <link href=\"http://arxiv.org/abs/1608.03324v1\" rel=\"alternate\" type=\"text/html\"/>\n",
      "  <link href=\"http://arxiv.org/pdf/1608.03324v1\" rel=\"related\" title=\"pdf\" type=\"application/pdf\"/>\n",
      "  <primary_category scheme=\"http://arxiv.org/schemas/atom\" term=\"cs.SE\"/>\n",
      "  <category scheme=\"http://arxiv.org/schemas/atom\" term=\"cs.SE\"/>\n",
      "  <category scheme=\"http://arxiv.org/schemas/atom\" term=\"D2.2; D.2.11; D.2.13\"/>\n",
      " </entry>\n",
      " <entry>\n",
      "  <id>\n",
      "   http://arxiv.org/abs/1206.6437v1\n",
      "  </id>\n",
      "  <updated>\n",
      "   2012-06-27T19:59:59Z\n",
      "  </updated>\n",
      "  <published>\n",
      "   2012-06-27T19:59:59Z\n",
      "  </published>\n",
      "  <title>\n",
      "   Large Scale Variational Bayesian Inference for Structured Scale Mixture\n",
      "  Models\n",
      "  </title>\n",
      "  <summary>\n",
      "   Natural image statistics exhibit hierarchical dependencies across multiple\n",
      "scales. Representing such prior knowledge in non-factorial latent tree models\n",
      "can boost performance of image denoising, inpainting, deconvolution or\n",
      "reconstruction substantially, beyond standard factorial \"sparse\" methodology.\n",
      "We derive a large scale approximate Bayesian inference algorithm for linear\n",
      "models with non-factorial (latent tree-structured) scale mixture priors.\n",
      "Experimental results on a range of denoising and inpainting problems\n",
      "demonstrate substantially improved performance compared to MAP estimation or to\n",
      "inference with factorial priors.\n",
      "  </summary>\n",
      "  <author>\n",
      "   <name>\n",
      "    Young Jun Ko\n",
      "   </name>\n",
      "   <affiliation>\n",
      "    Ecole Polytechnique Federale de Lausanne\n",
      "   </affiliation>\n",
      "  </author>\n",
      "  <author>\n",
      "   <name>\n",
      "    Matthias Seeger\n",
      "   </name>\n",
      "   <affiliation>\n",
      "    Ecole Polytechnique Federale de Lausanne\n",
      "   </affiliation>\n",
      "  </author>\n",
      "  <comment>\n",
      "   Appears in Proceedings of the 29th International Conference on\n",
      "  Machine Learning (ICML 2012)\n",
      "  </comment>\n",
      "  <link href=\"http://arxiv.org/abs/1206.6437v1\" rel=\"alternate\" type=\"text/html\"/>\n",
      "  <link href=\"http://arxiv.org/pdf/1206.6437v1\" rel=\"related\" title=\"pdf\" type=\"application/pdf\"/>\n",
      "  <primary_category scheme=\"http://arxiv.org/schemas/atom\" term=\"cs.CV\"/>\n",
      "  <category scheme=\"http://arxiv.org/schemas/atom\" term=\"cs.CV\"/>\n",
      "  <category scheme=\"http://arxiv.org/schemas/atom\" term=\"cs.LG\"/>\n",
      "  <category scheme=\"http://arxiv.org/schemas/atom\" term=\"stat.ML\"/>\n",
      " </entry>\n",
      " <entry>\n",
      "  <id>\n",
      "   http://arxiv.org/abs/1608.03125v1\n",
      "  </id>\n",
      "  <updated>\n",
      "   2016-08-10T11:10:33Z\n",
      "  </updated>\n",
      "  <published>\n",
      "   2016-08-10T11:10:33Z\n",
      "  </published>\n",
      "  <title>\n",
      "   A Note on the Expressiveness of BIP\n",
      "  </title>\n",
      "  <summary>\n",
      "   We extend our previous algebraic formalisation of the notion of\n",
      "component-based framework in order to formally define two forms, strong and\n",
      "weak, of the notion of full expressiveness. Our earlier result shows that the\n",
      "BIP (Behaviour-Interaction-Priority) framework does not possess the strong full\n",
      "expressiveness. In this paper, we show that BIP has the weak form of this\n",
      "notion and provide results detailing weak and strong full expressiveness for\n",
      "classical BIP and several modifications, obtained by relaxing the constraints\n",
      "imposed on priority models.\n",
      "  </summary>\n",
      "  <author>\n",
      "   <name>\n",
      "    Eduard Baranov\n",
      "   </name>\n",
      "   <affiliation>\n",
      "    Ecole polytechnique fédérale de Lausanne\n",
      "   </affiliation>\n",
      "  </author>\n",
      "  <author>\n",
      "   <name>\n",
      "    Simon Bliudze\n",
      "   </name>\n",
      "   <affiliation>\n",
      "    Ecole polytechnique fédérale de Lausanne\n",
      "   </affiliation>\n",
      "  </author>\n",
      "  <doi>\n",
      "   10.4204/EPTCS.222.1\n",
      "  </doi>\n",
      "  <link href=\"http://dx.doi.org/10.4204/EPTCS.222.1\" rel=\"related\" title=\"doi\"/>\n",
      "  <comment>\n",
      "   In Proceedings EXPRESS/SOS 2016, arXiv:1608.02692\n",
      "  </comment>\n",
      "  <journal_ref>\n",
      "   EPTCS 222, 2016, pp. 1-14\n",
      "  </journal_ref>\n",
      "  <link href=\"http://arxiv.org/abs/1608.03125v1\" rel=\"alternate\" type=\"text/html\"/>\n",
      "  <link href=\"http://arxiv.org/pdf/1608.03125v1\" rel=\"related\" title=\"pdf\" type=\"application/pdf\"/>\n",
      "  <primary_category scheme=\"http://arxiv.org/schemas/atom\" term=\"cs.DC\"/>\n",
      "  <category scheme=\"http://arxiv.org/schemas/atom\" term=\"cs.DC\"/>\n",
      "  <category scheme=\"http://arxiv.org/schemas/atom\" term=\"cs.LO\"/>\n",
      "  <category scheme=\"http://arxiv.org/schemas/atom\" term=\"cs.PL\"/>\n",
      "  <category scheme=\"http://arxiv.org/schemas/atom\" term=\"cs.SE\"/>\n",
      " </entry>\n",
      " <entry>\n",
      "  <id>\n",
      "   http://arxiv.org/abs/0909.2703v1\n",
      "  </id>\n",
      "  <updated>\n",
      "   2009-09-15T00:55:51Z\n",
      "  </updated>\n",
      "  <published>\n",
      "   2009-09-15T00:55:51Z\n",
      "  </published>\n",
      "  <title>\n",
      "   Parallel Transport of Electrons in Graphene Parallels Gravity\n",
      "  </title>\n",
      "  <summary>\n",
      "   Geometrically a crystal containing dislocations and disclinations can be\n",
      "envisaged as a `fixed frame' Cartan--Einstein space-time carrying torsion and\n",
      "curvature, respectively. We demonstrate that electrons in defected graphene are\n",
      "transported in the same way as fundamental Dirac fermions in a non-trivial 2+1\n",
      "dimensional space-time, with the proviso that the graphene electrons remember\n",
      "the lattice constant through the valley quantum numbers. The extra `valley\n",
      "holonomy' corresponds to modified Euclidean symmetry generators.\n",
      "  </summary>\n",
      "  <author>\n",
      "   <name>\n",
      "    Andrej Mesaros\n",
      "   </name>\n",
      "   <affiliation>\n",
      "    Instituut-Lorentz for Theoretical Physics, Universiteit Leiden, The Netherlands\n",
      "   </affiliation>\n",
      "  </author>\n",
      "  <author>\n",
      "   <name>\n",
      "    Darius Sadri\n",
      "   </name>\n",
      "   <affiliation>\n",
      "    Instituut-Lorentz for Theoretical Physics, Universiteit Leiden, The Netherlands\n",
      "   </affiliation>\n",
      "   <affiliation>\n",
      "    Institute of Theoretical Physics, Ecole Polytechnique Fédérale de Lausanne\n",
      "   </affiliation>\n",
      "  </author>\n",
      "  <author>\n",
      "   <name>\n",
      "    Jan Zaanen\n",
      "   </name>\n",
      "   <affiliation>\n",
      "    Instituut-Lorentz for Theoretical Physics, Universiteit Leiden, The Netherlands\n",
      "   </affiliation>\n",
      "  </author>\n",
      "  <doi>\n",
      "   10.1103/PhysRevB.82.073405\n",
      "  </doi>\n",
      "  <link href=\"http://dx.doi.org/10.1103/PhysRevB.82.073405\" rel=\"related\" title=\"doi\"/>\n",
      "  <comment>\n",
      "   4 pages\n",
      "  </comment>\n",
      "  <journal_ref>\n",
      "   Phys. Rev. B82:073405,2010\n",
      "  </journal_ref>\n",
      "  <link href=\"http://arxiv.org/abs/0909.2703v1\" rel=\"alternate\" type=\"text/html\"/>\n",
      "  <link href=\"http://arxiv.org/pdf/0909.2703v1\" rel=\"related\" title=\"pdf\" type=\"application/pdf\"/>\n",
      "  <primary_category scheme=\"http://arxiv.org/schemas/atom\" term=\"cond-mat.mes-hall\"/>\n",
      "  <category scheme=\"http://arxiv.org/schemas/atom\" term=\"cond-mat.mes-hall\"/>\n",
      "  <category scheme=\"http://arxiv.org/schemas/atom\" term=\"gr-qc\"/>\n",
      " </entry>\n",
      " <entry>\n",
      "  <id>\n",
      "   http://arxiv.org/abs/1310.4571v1\n",
      "  </id>\n",
      "  <updated>\n",
      "   2013-10-17T03:47:49Z\n",
      "  </updated>\n",
      "  <published>\n",
      "   2013-10-17T03:47:49Z\n",
      "  </published>\n",
      "  <title>\n",
      "   Extended Connectors: Structuring Glue Operators in BIP\n",
      "  </title>\n",
      "  <summary>\n",
      "   Based on a variation of the BIP operational semantics using the offer\n",
      "predicate introduced in our previous work, we extend the algebras used to model\n",
      "glue operators in BIP to encompass priorities. This extension uses the Algebra\n",
      "of Causal Interaction Trees, T(P), as a pivot: existing transformations\n",
      "automatically provide the extensions for the Algebra of Connectors. We then\n",
      "extend the axiomatisation of T(P), since the equivalence induced by the new\n",
      "operational semantics is weaker than that induced by the interaction semantics.\n",
      "This extension leads to canonical normal forms for all structures and to a\n",
      "simplification of the algorithm for the synthesis of connectors from Boolean\n",
      "coordination constraints.\n",
      "  </summary>\n",
      "  <author>\n",
      "   <name>\n",
      "    Eduard Baranov\n",
      "   </name>\n",
      "   <affiliation>\n",
      "    Ecole Polytechnique Fédérale de Lausanne, Switzerland\n",
      "   </affiliation>\n",
      "  </author>\n",
      "  <author>\n",
      "   <name>\n",
      "    Simon Bliudze\n",
      "   </name>\n",
      "   <affiliation>\n",
      "    Ecole Polytechnique Fédérale de Lausanne, Switzerland\n",
      "   </affiliation>\n",
      "  </author>\n",
      "  <doi>\n",
      "   10.4204/EPTCS.131.3\n",
      "  </doi>\n",
      "  <link href=\"http://dx.doi.org/10.4204/EPTCS.131.3\" rel=\"related\" title=\"doi\"/>\n",
      "  <comment>\n",
      "   In Proceedings ICE 2013, arXiv:1310.4019\n",
      "  </comment>\n",
      "  <journal_ref>\n",
      "   EPTCS 131, 2013, pp. 20-35\n",
      "  </journal_ref>\n",
      "  <link href=\"http://arxiv.org/abs/1310.4571v1\" rel=\"alternate\" type=\"text/html\"/>\n",
      "  <link href=\"http://arxiv.org/pdf/1310.4571v1\" rel=\"related\" title=\"pdf\" type=\"application/pdf\"/>\n",
      "  <primary_category scheme=\"http://arxiv.org/schemas/atom\" term=\"cs.LO\"/>\n",
      "  <category scheme=\"http://arxiv.org/schemas/atom\" term=\"cs.LO\"/>\n",
      "  <category scheme=\"http://arxiv.org/schemas/atom\" term=\"cs.PL\"/>\n",
      "  <category scheme=\"http://arxiv.org/schemas/atom\" term=\"cs.SE\"/>\n",
      " </entry>\n",
      " <entry>\n",
      "  <id>\n",
      "   http://arxiv.org/abs/cond-mat/0002399v1\n",
      "  </id>\n",
      "  <updated>\n",
      "   2000-02-25T10:26:29Z\n",
      "  </updated>\n",
      "  <published>\n",
      "   2000-02-25T10:26:29Z\n",
      "  </published>\n",
      "  <title>\n",
      "   Interaction-assisted propagation of Coulomb-correlated electron-hole\n",
      "  pairs in disordered semiconductors\n",
      "  </title>\n",
      "  <summary>\n",
      "   A two-band model of a disordered semiconductor is used to analyze dynamical\n",
      "interaction induced weakening of localization in a system that is accessible to\n",
      "experimental verification. The results show a dependence on the sign of the\n",
      "two-particle interaction and on the optical excitation energy of the\n",
      "Coulomb-correlated electron-hole pair.\n",
      "  </summary>\n",
      "  <author>\n",
      "   <name>\n",
      "    D. Brinkmann\n",
      "   </name>\n",
      "   <affiliation>\n",
      "    Fachbereich Physik Philipps-Universitaet Marburg, Germany\n",
      "   </affiliation>\n",
      "  </author>\n",
      "  <author>\n",
      "   <name>\n",
      "    J. E. Golub\n",
      "   </name>\n",
      "   <affiliation>\n",
      "    Fachbereich Physik Philipps-Universitaet Marburg, Germany\n",
      "   </affiliation>\n",
      "  </author>\n",
      "  <author>\n",
      "   <name>\n",
      "    S. W. Koch\n",
      "   </name>\n",
      "   <affiliation>\n",
      "    Fachbereich Physik Philipps-Universitaet Marburg, Germany\n",
      "   </affiliation>\n",
      "  </author>\n",
      "  <author>\n",
      "   <name>\n",
      "    P. Thomas\n",
      "   </name>\n",
      "   <affiliation>\n",
      "    Fachbereich Physik Philipps-Universitaet Marburg, Germany\n",
      "   </affiliation>\n",
      "  </author>\n",
      "  <author>\n",
      "   <name>\n",
      "    K. Maschke\n",
      "   </name>\n",
      "   <affiliation>\n",
      "    Institut de Physique Appliquee, Ecole Polytechnique Federale de Lausanne, Switzerland\n",
      "   </affiliation>\n",
      "  </author>\n",
      "  <author>\n",
      "   <name>\n",
      "    I. Varga\n",
      "   </name>\n",
      "   <affiliation>\n",
      "    Fachbereich Physik Philipps-Universitaet Marburg, Germany\n",
      "   </affiliation>\n",
      "   <affiliation>\n",
      "    Institut fuer Theoretische Physik, Universitaet zu Koeln, Germany\n",
      "   </affiliation>\n",
      "  </author>\n",
      "  <doi>\n",
      "   10.1007/s100510050837\n",
      "  </doi>\n",
      "  <link href=\"http://dx.doi.org/10.1007/s100510050837\" rel=\"related\" title=\"doi\"/>\n",
      "  <comment>\n",
      "   4 pages and 3 ps figures\n",
      "  </comment>\n",
      "  <journal_ref>\n",
      "   Eur. Phys. J. B10 (1999) 145\n",
      "  </journal_ref>\n",
      "  <link href=\"http://arxiv.org/abs/cond-mat/0002399v1\" rel=\"alternate\" type=\"text/html\"/>\n",
      "  <link href=\"http://arxiv.org/pdf/cond-mat/0002399v1\" rel=\"related\" title=\"pdf\" type=\"application/pdf\"/>\n",
      "  <primary_category scheme=\"http://arxiv.org/schemas/atom\" term=\"cond-mat.dis-nn\"/>\n",
      "  <category scheme=\"http://arxiv.org/schemas/atom\" term=\"cond-mat.dis-nn\"/>\n",
      "  <category scheme=\"http://arxiv.org/schemas/atom\" term=\"cond-mat.str-el\"/>\n",
      " </entry>\n",
      " <entry>\n",
      "  <id>\n",
      "   http://arxiv.org/abs/1212.3877v1\n",
      "  </id>\n",
      "  <updated>\n",
      "   2012-12-17T03:42:23Z\n",
      "  </updated>\n",
      "  <published>\n",
      "   2012-12-17T03:42:23Z\n",
      "  </published>\n",
      "  <title>\n",
      "   Towards a Theory of Glue\n",
      "  </title>\n",
      "  <summary>\n",
      "   We propose and study the notions of behaviour type and composition operator\n",
      "making a first step towards the definition of a formal framework for studying\n",
      "behaviour composition in a setting sufficiently general to provide insight into\n",
      "how the component-based systems should be modelled and compared. We illustrate\n",
      "the proposed notions on classical examples (Traces, Labelled Transition Systems\n",
      "and Coalgebras). Finally, the definition of memoryless glue operators, takes us\n",
      "one step closer to a formal understanding of the separation of concerns\n",
      "principle stipulating that computational aspects of a system should be\n",
      "localised within its atomic components, whereas coordination layer responsible\n",
      "for managing concurrency should be realised by memoryless glue operators.\n",
      "  </summary>\n",
      "  <author>\n",
      "   <name>\n",
      "    Simon Bliudze\n",
      "   </name>\n",
      "   <affiliation>\n",
      "    Ecole Polytechnique Fédérale de Lausanne\n",
      "   </affiliation>\n",
      "  </author>\n",
      "  <doi>\n",
      "   10.4204/EPTCS.104.6\n",
      "  </doi>\n",
      "  <link href=\"http://dx.doi.org/10.4204/EPTCS.104.6\" rel=\"related\" title=\"doi\"/>\n",
      "  <comment>\n",
      "   In Proceedings ICE 2012, arXiv:1212.3458\n",
      "  </comment>\n",
      "  <journal_ref>\n",
      "   EPTCS 104, 2012, pp. 48-66\n",
      "  </journal_ref>\n",
      "  <link href=\"http://arxiv.org/abs/1212.3877v1\" rel=\"alternate\" type=\"text/html\"/>\n",
      "  <link href=\"http://arxiv.org/pdf/1212.3877v1\" rel=\"related\" title=\"pdf\" type=\"application/pdf\"/>\n",
      "  <primary_category scheme=\"http://arxiv.org/schemas/atom\" term=\"cs.LO\"/>\n",
      "  <category scheme=\"http://arxiv.org/schemas/atom\" term=\"cs.LO\"/>\n",
      "  <category scheme=\"http://arxiv.org/schemas/atom\" term=\"cs.PL\"/>\n",
      "  <category scheme=\"http://arxiv.org/schemas/atom\" term=\"F.3.2\"/>\n",
      " </entry>\n",
      " <entry>\n",
      "  <id>\n",
      "   http://arxiv.org/abs/0804.0711v1\n",
      "  </id>\n",
      "  <updated>\n",
      "   2008-04-04T12:10:40Z\n",
      "  </updated>\n",
      "  <published>\n",
      "   2008-04-04T12:10:40Z\n",
      "  </published>\n",
      "  <title>\n",
      "   The evolution of Ap stars\n",
      "  </title>\n",
      "  <summary>\n",
      "   The many peculiarities of Ap stars (not only chemical ones, but also magnetic\n",
      "field and slow rotation) may vary during the main-sequence evolution of these\n",
      "stars. We review here briefly the evidences found in the last thirty years for\n",
      "such evolution, with an emphasis on the more recent research. The position in\n",
      "the HR diagram of low mass Ap stars with a significant surface magnetic field\n",
      "(as measured by us) is reviewed as well.\n",
      "  </summary>\n",
      "  <author>\n",
      "   <name>\n",
      "    P. North\n",
      "   </name>\n",
      "   <affiliation>\n",
      "    Ecole Polytechnique Fédérale de Lausanne\n",
      "   </affiliation>\n",
      "  </author>\n",
      "  <author>\n",
      "   <name>\n",
      "    J. Babel\n",
      "   </name>\n",
      "   <affiliation>\n",
      "    Neuchâtel, Switzerland\n",
      "   </affiliation>\n",
      "  </author>\n",
      "  <author>\n",
      "   <name>\n",
      "    D. Erspamer\n",
      "   </name>\n",
      "   <affiliation>\n",
      "    St-Maurice, Switzerland\n",
      "   </affiliation>\n",
      "  </author>\n",
      "  <comment>\n",
      "   11 pages, 6 figures\n",
      "  </comment>\n",
      "  <journal_ref>\n",
      "   Contrib.Astron.Obs.Skalnate Pleso 38:375-384,2008\n",
      "  </journal_ref>\n",
      "  <link href=\"http://arxiv.org/abs/0804.0711v1\" rel=\"alternate\" type=\"text/html\"/>\n",
      "  <link href=\"http://arxiv.org/pdf/0804.0711v1\" rel=\"related\" title=\"pdf\" type=\"application/pdf\"/>\n",
      "  <primary_category scheme=\"http://arxiv.org/schemas/atom\" term=\"astro-ph\"/>\n",
      "  <category scheme=\"http://arxiv.org/schemas/atom\" term=\"astro-ph\"/>\n",
      " </entry>\n",
      " <entry>\n",
      "  <id>\n",
      "   http://arxiv.org/abs/cond-mat/0104557v1\n",
      "  </id>\n",
      "  <updated>\n",
      "   2001-04-28T10:32:05Z\n",
      "  </updated>\n",
      "  <published>\n",
      "   2001-04-28T10:32:05Z\n",
      "  </published>\n",
      "  <title>\n",
      "   Anisotropy of superconducting MgB2 as seen in electron spin resonance\n",
      "  and magnetization data\n",
      "  </title>\n",
      "  <summary>\n",
      "   We have observed the conduction electron spin resonance (CESR) in fine\n",
      "powders of MgB2 both in the superconducting and normal states. The Pauli\n",
      "susceptibility is chi_s=2.0*10^{-5} emu/mole in the temperature range of 450 to\n",
      "600 K. The spin relaxation rate has an anomalous temperature dependence. The\n",
      "CESR measured below T_c at several frequencies suggests that MgB_2 is a\n",
      "strongly anisotropic superconductor with the upper critical field, H_c2,\n",
      "ranging between 2 and 16 T. The high-field reversible magnetization data of a\n",
      "randomly oriented powder sample are well described assuming that MgB_2 is an\n",
      "anisotropic superconductor with H_c2^{ab} / H_{c2}^{c} \\approx 6--9.\n",
      "  </summary>\n",
      "  <author>\n",
      "   <name>\n",
      "    F. Simon\n",
      "   </name>\n",
      "   <affiliation>\n",
      "    Budapest University of Technology, Budapest, Hungary\n",
      "   </affiliation>\n",
      "  </author>\n",
      "  <author>\n",
      "   <name>\n",
      "    A. Janossy\n",
      "   </name>\n",
      "   <affiliation>\n",
      "    Budapest University of Technology, Budapest, Hungary\n",
      "   </affiliation>\n",
      "  </author>\n",
      "  <author>\n",
      "   <name>\n",
      "    T. Feher\n",
      "   </name>\n",
      "   <affiliation>\n",
      "    Budapest University of Technology, Budapest, Hungary\n",
      "   </affiliation>\n",
      "  </author>\n",
      "  <author>\n",
      "   <name>\n",
      "    F. Muranyi\n",
      "   </name>\n",
      "   <affiliation>\n",
      "    Budapest University of Technology, Budapest, Hungary\n",
      "   </affiliation>\n",
      "  </author>\n",
      "  <author>\n",
      "   <name>\n",
      "    S. Garaj\n",
      "   </name>\n",
      "   <affiliation>\n",
      "    IGA, Ecole Polytechnique Federal de Lausanne, Lausanne, Switzerland\n",
      "   </affiliation>\n",
      "  </author>\n",
      "  <author>\n",
      "   <name>\n",
      "    L. Forro\n",
      "   </name>\n",
      "   <affiliation>\n",
      "    IGA, Ecole Polytechnique Federal de Lausanne, Lausanne, Switzerland\n",
      "   </affiliation>\n",
      "  </author>\n",
      "  <author>\n",
      "   <name>\n",
      "    C. Petrovic\n",
      "   </name>\n",
      "   <affiliation>\n",
      "    Ames Laboratory, U.S. Department of Energy and Department of Physics and Astronomy, Iowa State University, Ames, Iowa\n",
      "   </affiliation>\n",
      "  </author>\n",
      "  <author>\n",
      "   <name>\n",
      "    S. L. Bud'ko\n",
      "   </name>\n",
      "   <affiliation>\n",
      "    Ames Laboratory, U.S. Department of Energy and Department of Physics and Astronomy, Iowa State University, Ames, Iowa\n",
      "   </affiliation>\n",
      "  </author>\n",
      "  <author>\n",
      "   <name>\n",
      "    G. Lapertot\n",
      "   </name>\n",
      "   <affiliation>\n",
      "    Ames Laboratory, U.S. Department of Energy and Department of Physics and Astronomy, Iowa State University, Ames, Iowa\n",
      "   </affiliation>\n",
      "  </author>\n",
      "  <author>\n",
      "   <name>\n",
      "    V. G. Kogan\n",
      "   </name>\n",
      "   <affiliation>\n",
      "    Ames Laboratory, U.S. Department of Energy and Department of Physics and Astronomy, Iowa State University, Ames, Iowa\n",
      "   </affiliation>\n",
      "  </author>\n",
      "  <author>\n",
      "   <name>\n",
      "    P. C. Canfield\n",
      "   </name>\n",
      "   <affiliation>\n",
      "    Ames Laboratory, U.S. Department of Energy and Department of Physics and Astronomy, Iowa State University, Ames, Iowa\n",
      "   </affiliation>\n",
      "  </author>\n",
      "  <doi>\n",
      "   10.1103/PhysRevLett.87.047002\n",
      "  </doi>\n",
      "  <link href=\"http://dx.doi.org/10.1103/PhysRevLett.87.047002\" rel=\"related\" title=\"doi\"/>\n",
      "  <comment>\n",
      "   4 pages, 4 eps figures\n",
      "  </comment>\n",
      "  <link href=\"http://arxiv.org/abs/cond-mat/0104557v1\" rel=\"alternate\" type=\"text/html\"/>\n",
      "  <link href=\"http://arxiv.org/pdf/cond-mat/0104557v1\" rel=\"related\" title=\"pdf\" type=\"application/pdf\"/>\n",
      "  <primary_category scheme=\"http://arxiv.org/schemas/atom\" term=\"cond-mat.supr-con\"/>\n",
      "  <category scheme=\"http://arxiv.org/schemas/atom\" term=\"cond-mat.supr-con\"/>\n",
      " </entry>\n",
      " <entry>\n",
      "  <id>\n",
      "   http://arxiv.org/abs/1502.01534v2\n",
      "  </id>\n",
      "  <updated>\n",
      "   2015-02-09T22:11:10Z\n",
      "  </updated>\n",
      "  <published>\n",
      "   2015-02-05T13:26:36Z\n",
      "  </published>\n",
      "  <title>\n",
      "   Thermoelastic properties of $α$-iron from first-principles\n",
      "  </title>\n",
      "  <summary>\n",
      "   We calculate the thermomechanical properties of $\\alpha$-iron, and in\n",
      "particular its isothermal and adiabatic elastic constants, using\n",
      "first-principles total-energy and lattice-dynamics calculations, minimizing the\n",
      "quasi-harmonic vibrational free energy under finite strain deformations.\n",
      "Particular care is made in the fitting procedure for the static and\n",
      "temperature-dependent contributions to the free energy, in discussing error\n",
      "propagation for the two contributions separately, and in the verification and\n",
      "validation of pseudopotential and all-electron calculations. We find that the\n",
      "zero-temperature mechanical properties are sensitive to the details of the\n",
      "calculation strategy employed, and common semi-local exchange-correlation\n",
      "functionals provide only fair to good agreement with experimental elastic\n",
      "constants, while their temperature dependence is in excellent agreement with\n",
      "experiments in a wide range of temperature almost up to the Curie transition.\n",
      "  </summary>\n",
      "  <author>\n",
      "   <name>\n",
      "    Daniele Dragoni\n",
      "   </name>\n",
      "   <affiliation>\n",
      "    Theory and Simulations of Materials\n",
      "   </affiliation>\n",
      "  </author>\n",
      "  <author>\n",
      "   <name>\n",
      "    Davide Ceresoli\n",
      "   </name>\n",
      "   <affiliation>\n",
      "    CNR Istituto di Scienze e Tecnologie Molecolari\n",
      "   </affiliation>\n",
      "  </author>\n",
      "  <author>\n",
      "   <name>\n",
      "    Nicola Marzari\n",
      "   </name>\n",
      "   <affiliation>\n",
      "    Theory and Simulations of Materials\n",
      "   </affiliation>\n",
      "  </author>\n",
      "  <doi>\n",
      "   10.1103/PhysRevB.91.104105\n",
      "  </doi>\n",
      "  <link href=\"http://dx.doi.org/10.1103/PhysRevB.91.104105\" rel=\"related\" title=\"doi\"/>\n",
      "  <comment>\n",
      "   Accepted as regular article in Phys. Rev. B\n",
      "  </comment>\n",
      "  <link href=\"http://arxiv.org/abs/1502.01534v2\" rel=\"alternate\" type=\"text/html\"/>\n",
      "  <link href=\"http://arxiv.org/pdf/1502.01534v2\" rel=\"related\" title=\"pdf\" type=\"application/pdf\"/>\n",
      "  <primary_category scheme=\"http://arxiv.org/schemas/atom\" term=\"cond-mat.mtrl-sci\"/>\n",
      "  <category scheme=\"http://arxiv.org/schemas/atom\" term=\"cond-mat.mtrl-sci\"/>\n",
      " </entry>\n",
      "</feed>\n"
     ]
    }
   ],
   "source": [
    "print(soup.prettify())"
   ]
  },
  {
   "cell_type": "code",
   "execution_count": 24,
   "metadata": {
    "collapsed": false
   },
   "outputs": [
    {
     "data": {
      "text/plain": [
       "'64826'"
      ]
     },
     "execution_count": 24,
     "metadata": {},
     "output_type": "execute_result"
    }
   ],
   "source": [
    "soup.totalResults.text"
   ]
  },
  {
   "cell_type": "code",
   "execution_count": 79,
   "metadata": {
    "collapsed": true
   },
   "outputs": [],
   "source": [
    "def num_results(query):\n",
    "    query = urllib.parse.quote_plus(query, safe='')\n",
    "    url = 'http://export.arxiv.org/api/query?search_query={}&start=0&max_results=10'.format(query)\n",
    "    data = requests.get(url)\n",
    "    soup = BeautifulSoup(data.text, \"xml\")\n",
    "    print(soup.totalResults.text, \" results for query \", query)"
   ]
  },
  {
   "cell_type": "code",
   "execution_count": 31,
   "metadata": {
    "collapsed": false
   },
   "outputs": [
    {
     "name": "stdout",
     "output_type": "stream",
     "text": [
      "1196209  results for query  Swiss+Federal+Institute+of+Technology+Lausanne\n"
     ]
    }
   ],
   "source": [
    "num_results(\"Swiss Federal Institute of Technology Lausanne\")"
   ]
  },
  {
   "cell_type": "code",
   "execution_count": null,
   "metadata": {
    "collapsed": true
   },
   "outputs": [],
   "source": []
  },
  {
   "cell_type": "code",
   "execution_count": 32,
   "metadata": {
    "collapsed": false
   },
   "outputs": [
    {
     "name": "stdout",
     "output_type": "stream",
     "text": [
      "64826  results for query  Ecole+Polytechnique+f%C3%A9d%C3%A9rale+de+Lausanne\n"
     ]
    }
   ],
   "source": [
    "num_results(\"Ecole Polytechnique fédérale de Lausanne\")"
   ]
  },
  {
   "cell_type": "code",
   "execution_count": 33,
   "metadata": {
    "collapsed": false
   },
   "outputs": [
    {
     "name": "stdout",
     "output_type": "stream",
     "text": [
      "355  results for query  HEC+Lausanne\n"
     ]
    }
   ],
   "source": [
    "num_results(\"HEC Lausanne\")"
   ]
  },
  {
   "cell_type": "code",
   "execution_count": 34,
   "metadata": {
    "collapsed": false
   },
   "outputs": [
    {
     "name": "stdout",
     "output_type": "stream",
     "text": [
      "428  results for query  Eidgen%C3%B6ssische+Technische+Hochschule+Z%C3%BCrich\n"
     ]
    }
   ],
   "source": [
    "num_results(\"Eidgenössische Technische Hochschule Zürich\")"
   ]
  },
  {
   "cell_type": "code",
   "execution_count": 35,
   "metadata": {
    "collapsed": false
   },
   "outputs": [
    {
     "name": "stdout",
     "output_type": "stream",
     "text": [
      "97  results for query  ETHZ\n"
     ]
    }
   ],
   "source": [
    "num_results(\"ETHZ\")"
   ]
  },
  {
   "cell_type": "code",
   "execution_count": 36,
   "metadata": {
    "collapsed": false
   },
   "outputs": [
    {
     "name": "stdout",
     "output_type": "stream",
     "text": [
      "1196214  results for query  Swiss+Federal+Institute+of+Technology+Zurich\n"
     ]
    }
   ],
   "source": [
    "num_results(\"Swiss Federal Institute of Technology Zurich\")"
   ]
  },
  {
   "cell_type": "code",
   "execution_count": 37,
   "metadata": {
    "collapsed": false
   },
   "outputs": [
    {
     "name": "stdout",
     "output_type": "stream",
     "text": [
      "296  results for query  EPFL\n"
     ]
    }
   ],
   "source": [
    "num_results(\"EPFL\")"
   ]
  },
  {
   "cell_type": "code",
   "execution_count": 40,
   "metadata": {
    "collapsed": false
   },
   "outputs": [
    {
     "data": {
      "text/plain": [
       "10"
      ]
     },
     "execution_count": 40,
     "metadata": {},
     "output_type": "execute_result"
    }
   ],
   "source": [
    "len(soup.findAll(\"entry\"))"
   ]
  },
  {
   "cell_type": "code",
   "execution_count": 72,
   "metadata": {
    "collapsed": true
   },
   "outputs": [],
   "source": [
    "def results(query):\n",
    "    query = urllib.parse.quote_plus(query, safe='')\n",
    "    url = 'http://export.arxiv.org/api/query?search_query={}&start=0&max_results=300'.format(query)\n",
    "    data = requests.get(url)\n",
    "    soup = BeautifulSoup(data.text, \"xml\")\n",
    "    return [s.text for s in soup.findAll(\"summary\")]"
   ]
  },
  {
   "cell_type": "code",
   "execution_count": 73,
   "metadata": {
    "collapsed": false
   },
   "outputs": [],
   "source": [
    "res = results(\"EPFL\")"
   ]
  },
  {
   "cell_type": "code",
   "execution_count": 55,
   "metadata": {
    "collapsed": false
   },
   "outputs": [
    {
     "data": {
      "text/plain": [
       "297"
      ]
     },
     "execution_count": 55,
     "metadata": {},
     "output_type": "execute_result"
    }
   ],
   "source": [
    "len(res)"
   ]
  },
  {
   "cell_type": "code",
   "execution_count": 83,
   "metadata": {
    "collapsed": true
   },
   "outputs": [],
   "source": [
    "import pandas as pd"
   ]
  },
  {
   "cell_type": "code",
   "execution_count": null,
   "metadata": {
    "collapsed": true
   },
   "outputs": [],
   "source": [
    "zip()"
   ]
  },
  {
   "cell_type": "code",
   "execution_count": 86,
   "metadata": {
    "collapsed": true
   },
   "outputs": [],
   "source": [
    "def extract_df(query):\n",
    "    query = urllib.parse.quote_plus(query, safe='')\n",
    "    url = 'http://export.arxiv.org/api/query?search_query={}&start=0&max_results=300'.format(query)\n",
    "    data = requests.get(url)\n",
    "    soup = BeautifulSoup(data.text, \"xml\")\n",
    "    summaries = [s.text for s in soup.findAll(\"summary\")]\n",
    "    titles = [s.text for s in soup.findAll(\"title\")]\n",
    "    ids = [s.text for s in soup.findAll(\"id\")]\n",
    "    published = [s.text for s in soup.findAll(\"published\")]\n",
    "    data = list(zip(ids, titles, summaries, published))\n",
    "    df = pd.DataFrame(data, columns=[\"id\", \"title\", \"summary\", \"published\"])\n",
    "    return df"
   ]
  },
  {
   "cell_type": "code",
   "execution_count": 87,
   "metadata": {
    "collapsed": false
   },
   "outputs": [],
   "source": [
    "df = extract_df(\"EPFL\")"
   ]
  },
  {
   "cell_type": "code",
   "execution_count": 88,
   "metadata": {
    "collapsed": false
   },
   "outputs": [
    {
     "data": {
      "text/html": [
       "<div>\n",
       "<table border=\"1\" class=\"dataframe\">\n",
       "  <thead>\n",
       "    <tr style=\"text-align: right;\">\n",
       "      <th></th>\n",
       "      <th>id</th>\n",
       "      <th>title</th>\n",
       "      <th>summary</th>\n",
       "      <th>published</th>\n",
       "    </tr>\n",
       "  </thead>\n",
       "  <tbody>\n",
       "    <tr>\n",
       "      <th>0</th>\n",
       "      <td>http://arxiv.org/api/r9qQvvV+R7PE5ahGrCZwSPO/ZME</td>\n",
       "      <td>ArXiv Query: search_query=EPFL&amp;id_list=&amp;start=...</td>\n",
       "      <td>We report the discovery of three new cases o...</td>\n",
       "      <td>2011-10-25T14:27:28Z</td>\n",
       "    </tr>\n",
       "    <tr>\n",
       "      <th>1</th>\n",
       "      <td>http://arxiv.org/abs/1110.5514v1</td>\n",
       "      <td>Three QSOs acting as strong gravitational lenses</td>\n",
       "      <td>We report our progress in scaling deductive ...</td>\n",
       "      <td>2016-11-23T03:16:55Z</td>\n",
       "    </tr>\n",
       "    <tr>\n",
       "      <th>2</th>\n",
       "      <td>http://arxiv.org/abs/1611.07625v1</td>\n",
       "      <td>An Update on Deductive Synthesis and Repair in...</td>\n",
       "      <td>This is a writeup of lectures given at the E...</td>\n",
       "      <td>2016-01-19T17:07:40Z</td>\n",
       "    </tr>\n",
       "    <tr>\n",
       "      <th>3</th>\n",
       "      <td>http://arxiv.org/abs/1601.05000v2</td>\n",
       "      <td>EPFL Lectures on Conformal Field Theory in D&gt;=...</td>\n",
       "      <td>In this paper we study the existence of solu...</td>\n",
       "      <td>2016-04-15T07:40:48Z</td>\n",
       "    </tr>\n",
       "    <tr>\n",
       "      <th>4</th>\n",
       "      <td>http://arxiv.org/abs/1604.04387v1</td>\n",
       "      <td>An Elliptic System with Degenerate Coercivity</td>\n",
       "      <td>In this work, we have studied the invariants...</td>\n",
       "      <td>1993-11-17T15:45:00Z</td>\n",
       "    </tr>\n",
       "  </tbody>\n",
       "</table>\n",
       "</div>"
      ],
      "text/plain": [
       "                                                 id  \\\n",
       "0  http://arxiv.org/api/r9qQvvV+R7PE5ahGrCZwSPO/ZME   \n",
       "1                  http://arxiv.org/abs/1110.5514v1   \n",
       "2                 http://arxiv.org/abs/1611.07625v1   \n",
       "3                 http://arxiv.org/abs/1601.05000v2   \n",
       "4                 http://arxiv.org/abs/1604.04387v1   \n",
       "\n",
       "                                               title  \\\n",
       "0  ArXiv Query: search_query=EPFL&id_list=&start=...   \n",
       "1   Three QSOs acting as strong gravitational lenses   \n",
       "2  An Update on Deductive Synthesis and Repair in...   \n",
       "3  EPFL Lectures on Conformal Field Theory in D>=...   \n",
       "4      An Elliptic System with Degenerate Coercivity   \n",
       "\n",
       "                                             summary             published  \n",
       "0    We report the discovery of three new cases o...  2011-10-25T14:27:28Z  \n",
       "1    We report our progress in scaling deductive ...  2016-11-23T03:16:55Z  \n",
       "2    This is a writeup of lectures given at the E...  2016-01-19T17:07:40Z  \n",
       "3    In this paper we study the existence of solu...  2016-04-15T07:40:48Z  \n",
       "4    In this work, we have studied the invariants...  1993-11-17T15:45:00Z  "
      ]
     },
     "execution_count": 88,
     "metadata": {},
     "output_type": "execute_result"
    }
   ],
   "source": [
    "df.head()"
   ]
  },
  {
   "cell_type": "code",
   "execution_count": 89,
   "metadata": {
    "collapsed": true
   },
   "outputs": [],
   "source": [
    "df[\"abstract\"] = df.title + \"\\n\" + df.summary"
   ]
  },
  {
   "cell_type": "code",
   "execution_count": 90,
   "metadata": {
    "collapsed": true
   },
   "outputs": [],
   "source": [
    "from nltk.tokenize import word_tokenize\n",
    "from nltk import pos_tag\n",
    "from nltk.stem.porter import PorterStemmer\n",
    "from nltk.stem import WordNetLemmatizer\n",
    "import re\n",
    "import stop_words\n",
    "import string"
   ]
  },
  {
   "cell_type": "code",
   "execution_count": 91,
   "metadata": {
    "collapsed": true
   },
   "outputs": [],
   "source": [
    "stemmer = PorterStemmer()\n",
    "lemmatizer = WordNetLemmatizer()"
   ]
  },
  {
   "cell_type": "code",
   "execution_count": 92,
   "metadata": {
    "collapsed": true
   },
   "outputs": [],
   "source": [
    "from nltk.corpus import wordnet\n",
    "\n",
    "def get_wordnet_tag(treebank_tag):\n",
    "    \"\"\" enables to map pos tags from treebank to wordnet valid pos tags \n",
    "    (in order to feed the lemmatizer) \"\"\"\n",
    "    \n",
    "    if treebank_tag.startswith('J'):\n",
    "        return wordnet.ADJ\n",
    "    elif treebank_tag.startswith('V'):\n",
    "        return wordnet.VERB\n",
    "    elif treebank_tag.startswith('R'):\n",
    "        return wordnet.ADV\n",
    "    else:  # if starts with N or others (noun by default)\n",
    "        return wordnet.NOUN"
   ]
  },
  {
   "cell_type": "code",
   "execution_count": 93,
   "metadata": {
    "collapsed": true
   },
   "outputs": [],
   "source": [
    "def lemmatize(token):\n",
    "    \"\"\" final method to lemmatize using wordnet lemmatizer \"\"\"\n",
    "    \n",
    "    trbk_tag = pos_tag([token])[0][1]  # get the treebank tag from pos_tag method\n",
    "    wrdnt_tag = get_wordnet_tag(treebank_tag=trbk_tag)  # translate it to wordnet tag\n",
    "    return lemmatizer.lemmatize(token, wrdnt_tag)"
   ]
  },
  {
   "cell_type": "code",
   "execution_count": 94,
   "metadata": {
    "collapsed": true
   },
   "outputs": [],
   "source": [
    "stop_words_ = stop_words.get_stop_words(\"en\")"
   ]
  },
  {
   "cell_type": "code",
   "execution_count": 95,
   "metadata": {
    "collapsed": true
   },
   "outputs": [],
   "source": [
    "punctuation_filter = str.maketrans({key: None for key in string.punctuation})"
   ]
  },
  {
   "cell_type": "code",
   "execution_count": 96,
   "metadata": {
    "collapsed": true
   },
   "outputs": [],
   "source": [
    "def nlp_pre_process(text, lemma=False, stem=False):\n",
    "    \"\"\"\n",
    "    Reduces an input text into a list of tokens, \n",
    "    using NLP filterings such as normalization, \n",
    "    PoS and stop word filtering, stemming.\n",
    "    text: (str)\n",
    "    tokens: list(str)\n",
    "    \"\"\"\n",
    "    text = text.lower()  # normalize\n",
    "    text = text.translate(punctuation_filter)  # remove punctuation\n",
    "    tokens = word_tokenize(text)  # tokenize\n",
    "    pos_tags = [pos_tag([t]) for t in tokens]  # PoS tagging\n",
    "    tokens = [token for [(token, tag)] in pos_tags if tag != \"DT\"]  # PoS filtering\n",
    "    tokens = [t for t in tokens if t not in stop_words_]  # stop words filtering\n",
    "    \n",
    "    if stem:\n",
    "        tokens = [stemmer.stem(t) for t in tokens]  # stemming\n",
    "    \n",
    "    if lemma:\n",
    "        tokens = [lemmatize(t) for t in tokens]  # lemmatizing\n",
    "    \n",
    "    return \" \".join(tokens)"
   ]
  },
  {
   "cell_type": "code",
   "execution_count": 97,
   "metadata": {
    "collapsed": true
   },
   "outputs": [],
   "source": [
    "df[\"abstract_processed\"] = df.abstract.apply(lambda t: nlp_pre_process(t, lemma=True))"
   ]
  },
  {
   "cell_type": "markdown",
   "metadata": {},
   "source": [
    "## Topic Extraction"
   ]
  },
  {
   "cell_type": "code",
   "execution_count": 75,
   "metadata": {
    "collapsed": false
   },
   "outputs": [
    {
     "name": "stderr",
     "output_type": "stream",
     "text": [
      "/Users/arnaudmiribel/anaconda/envs/ada/lib/python3.5/site-packages/gensim/utils.py:1015: UserWarning: Pattern library is not installed, lemmatization won't be available.\n",
      "  warnings.warn(\"Pattern library is not installed, lemmatization won't be available.\")\n"
     ]
    }
   ],
   "source": [
    "from gensim.models import LdaModel\n",
    "from gensim import corpora\n",
    "import logging\n",
    "#logging.basicConfig(format='%(message)s', level=logging.INFO)\n",
    "logging.getLogger(\"gensim\").setLevel(logging.WARNING)"
   ]
  },
  {
   "cell_type": "code",
   "execution_count": 98,
   "metadata": {
    "collapsed": true
   },
   "outputs": [],
   "source": [
    "# define a term-document matrix\n",
    "final_text = [t.split(\" \") for t in df.abstract_processed.values]\n",
    "dictionary = corpora.Dictionary(final_text)\n",
    "corpus = [dictionary.doc2bow(text) for text in final_text]"
   ]
  },
  {
   "cell_type": "code",
   "execution_count": 113,
   "metadata": {
    "collapsed": true
   },
   "outputs": [],
   "source": [
    "# run model\n",
    "lda = LdaModel(corpus, num_topics=3, id2word=dictionary, passes=5)"
   ]
  },
  {
   "cell_type": "code",
   "execution_count": 115,
   "metadata": {
    "collapsed": false
   },
   "outputs": [
    {
     "data": {
      "text/plain": [
       "[(0,\n",
       "  '0.010*\"energy\" + 0.010*\"magic\" + 0.009*\"gammaray\" + 0.008*\"emission\" + 0.008*\"vhe\" + 0.007*\"data\" + 0.007*\"telescope\" + 0.007*\"observation\"'),\n",
       " (1,\n",
       "  '0.007*\"galaxy\" + 0.006*\"model\" + 0.004*\"state\" + 0.004*\"show\" + 0.004*\"sample\" + 0.004*\"problem\" + 0.004*\"system\" + 0.004*\"use\"'),\n",
       " (2,\n",
       "  '0.015*\"galaxy\" + 0.007*\"image\" + 0.007*\"model\" + 0.007*\"use\" + 0.006*\"mass\" + 0.006*\"cluster\" + 0.005*\"quasar\" + 0.005*\"star\"')]"
      ]
     },
     "execution_count": 115,
     "metadata": {},
     "output_type": "execute_result"
    }
   ],
   "source": [
    "lda.print_topics(num_words=8)"
   ]
  },
  {
   "cell_type": "code",
   "execution_count": 110,
   "metadata": {
    "collapsed": false
   },
   "outputs": [
    {
     "ename": "TypeError",
     "evalue": "get_document_topics() missing 1 required positional argument: 'bow'",
     "output_type": "error",
     "traceback": [
      "\u001b[0;31m----------------------------------------------------------------------\u001b[0m",
      "\u001b[0;31mTypeError\u001b[0m                            Traceback (most recent call last)",
      "\u001b[0;32m<ipython-input-110-9940af1008eb>\u001b[0m in \u001b[0;36m<module>\u001b[0;34m()\u001b[0m\n\u001b[0;32m----> 1\u001b[0;31m \u001b[0mlda\u001b[0m\u001b[0;34m.\u001b[0m\u001b[0mget_document_topics\u001b[0m\u001b[0;34m(\u001b[0m\u001b[0;34m)\u001b[0m\u001b[0;34m\u001b[0m\u001b[0m\n\u001b[0m",
      "\u001b[0;31mTypeError\u001b[0m: get_document_topics() missing 1 required positional argument: 'bow'"
     ]
    }
   ],
   "source": [
    "lda.get_document_topics"
   ]
  },
  {
   "cell_type": "code",
   "execution_count": null,
   "metadata": {
    "collapsed": true
   },
   "outputs": [],
   "source": []
  }
 ],
 "metadata": {
  "anaconda-cloud": {},
  "kernelspec": {
   "display_name": "Python [ada]",
   "language": "python",
   "name": "Python [ada]"
  },
  "language_info": {
   "codemirror_mode": {
    "name": "ipython",
    "version": 3
   },
   "file_extension": ".py",
   "mimetype": "text/x-python",
   "name": "python",
   "nbconvert_exporter": "python",
   "pygments_lexer": "ipython3",
   "version": "3.5.2"
  }
 },
 "nbformat": 4,
 "nbformat_minor": 0
}
