{
 "cells": [
  {
   "cell_type": "code",
   "execution_count": 25,
   "metadata": {
    "collapsed": true
   },
   "outputs": [],
   "source": [
    "%matplotlib inline\n",
    "import matplotlib.pyplot as plt\n",
    "import pandas as pd\n",
    " "
   ]
  },
  {
   "cell_type": "markdown",
   "metadata": {},
   "source": [
    "### 2016 KDD Cup Selected Affiliations\n",
    "\n",
    "- Affiliation ID\n",
    "- Affiliation name\n",
    "\n",
    "### 2016 KDD Cup Selected Papers\n",
    "\n",
    "- Paper ID\n",
    "- Original paper title\n",
    "- Paper publish year\n",
    "- Conference ID mapped to venue name\n",
    "- Conference short name (abbreviation)"
   ]
  },
  {
   "cell_type": "code",
   "execution_count": 14,
   "metadata": {
    "collapsed": true
   },
   "outputs": [],
   "source": [
    "path_papers = \"2016KDDCupSelectedPapers/2016KDDCupSelectedPapers.txt\"\n",
    "path_affiliations = \"2016KDDCupSelectedAffiliations/2016KDDCupSelectedAffiliations.txt\""
   ]
  },
  {
   "cell_type": "code",
   "execution_count": 17,
   "metadata": {
    "collapsed": false
   },
   "outputs": [],
   "source": [
    "papers = pd.read_csv(path_papers, sep=\"\\t\", index_col=0, header=None, names=[\"title\", \"year\", \"confID\", \"confShort\"])\n",
    "affiliations = pd.read_csv(path_affiliations, sep=\"\\t\", index_col=0, header=None, names=[\"affID\", \"affName\"])"
   ]
  },
  {
   "cell_type": "code",
   "execution_count": 33,
   "metadata": {
    "collapsed": false
   },
   "outputs": [
    {
     "data": {
      "text/plain": [
       "<matplotlib.axes._subplots.AxesSubplot at 0x10877d9b0>"
      ]
     },
     "execution_count": 33,
     "metadata": {},
     "output_type": "execute_result"
    },
    {
     "data": {
      "image/png": "[encoded data removed]",
      "text/plain": [
       "<matplotlib.figure.Figure at 0x108601da0>"
      ]
     },
     "metadata": {},
     "output_type": "display_data"
    }
   ],
   "source": [
    "papers.year.hist()"
   ]
  },
  {
   "cell_type": "code",
   "execution_count": 34,
   "metadata": {
    "collapsed": false
   },
   "outputs": [
    {
     "data": {
      "text/html": [
       "<div>\n",
       "<table border=\"1\" class=\"dataframe\">\n",
       "  <thead>\n",
       "    <tr style=\"text-align: right;\">\n",
       "      <th></th>\n",
       "      <th>title</th>\n",
       "      <th>year</th>\n",
       "      <th>confID</th>\n",
       "      <th>confShort</th>\n",
       "    </tr>\n",
       "  </thead>\n",
       "  <tbody>\n",
       "    <tr>\n",
       "      <th>7AB34E32</th>\n",
       "      <td>ADDiff: semantic differencing for activity dia...</td>\n",
       "      <td>2011</td>\n",
       "      <td>477F6C83</td>\n",
       "      <td>FSE</td>\n",
       "    </tr>\n",
       "    <tr>\n",
       "      <th>7BFD6C72</th>\n",
       "      <td>Boosting the performance of flow-sensitive poi...</td>\n",
       "      <td>2011</td>\n",
       "      <td>477F6C83</td>\n",
       "      <td>FSE</td>\n",
       "    </tr>\n",
       "    <tr>\n",
       "      <th>7DA0D7B5</th>\n",
       "      <td>BugCache for inspections: hit or miss?</td>\n",
       "      <td>2011</td>\n",
       "      <td>477F6C83</td>\n",
       "      <td>FSE</td>\n",
       "    </tr>\n",
       "    <tr>\n",
       "      <th>784EEC08</th>\n",
       "      <td>CSSL: a logic for specifying conditional scena...</td>\n",
       "      <td>2011</td>\n",
       "      <td>477F6C83</td>\n",
       "      <td>FSE</td>\n",
       "    </tr>\n",
       "    <tr>\n",
       "      <th>7A050622</th>\n",
       "      <td>Checking conformance of a producer and a consumer</td>\n",
       "      <td>2011</td>\n",
       "      <td>477F6C83</td>\n",
       "      <td>FSE</td>\n",
       "    </tr>\n",
       "  </tbody>\n",
       "</table>\n",
       "</div>"
      ],
      "text/plain": [
       "                                                      title  year    confID  \\\n",
       "7AB34E32  ADDiff: semantic differencing for activity dia...  2011  477F6C83   \n",
       "7BFD6C72  Boosting the performance of flow-sensitive poi...  2011  477F6C83   \n",
       "7DA0D7B5             BugCache for inspections: hit or miss?  2011  477F6C83   \n",
       "784EEC08  CSSL: a logic for specifying conditional scena...  2011  477F6C83   \n",
       "7A050622  Checking conformance of a producer and a consumer  2011  477F6C83   \n",
       "\n",
       "         confShort  \n",
       "7AB34E32       FSE  \n",
       "7BFD6C72       FSE  \n",
       "7DA0D7B5       FSE  \n",
       "784EEC08       FSE  \n",
       "7A050622       FSE  "
      ]
     },
     "execution_count": 34,
     "metadata": {},
     "output_type": "execute_result"
    }
   ],
   "source": [
    "papers.head()"
   ]
  },
  {
   "cell_type": "markdown",
   "metadata": {},
   "source": [
    "## NLP pre-process"
   ]
  },
  {
   "cell_type": "code",
   "execution_count": 53,
   "metadata": {
    "collapsed": false
   },
   "outputs": [],
   "source": [
    "from nltk.tokenize import word_tokenize\n",
    "from nltk import pos_tag\n",
    "from nltk.stem.porter import *\n",
    "from nltk.stem import WordNetLemmatizer\n",
    "import re\n",
    "import stop_words"
   ]
  },
  {
   "cell_type": "code",
   "execution_count": 54,
   "metadata": {
    "collapsed": false
   },
   "outputs": [],
   "source": [
    "stemmer = PorterStemmer()\n",
    "lemmatizer = WordNetLemmatizer()\n",
    "stop_words_ = stop_words.get_stop_words(\"en\")"
   ]
  },
  {
   "cell_type": "code",
   "execution_count": 62,
   "metadata": {
    "collapsed": false
   },
   "outputs": [],
   "source": [
    "def nlp_pre_process(text):\n",
    "    \"\"\"\n",
    "    Reduces an input text into a list of tokens, \n",
    "    using NLP filterings such as normalization, \n",
    "    PoS and stop word filtering, stemming.\n",
    "    text: (str)\n",
    "    tokens: list(str)\n",
    "    \"\"\"\n",
    "    text = text.lower()  # normalize\n",
    "    tokens = word_tokenize(text)  # tokenize\n",
    "    pos_tags = [pos_tag([t]) for t in tokens]  # PoS tagging\n",
    "    tokens = [token for [(token, tag)] in pos_tags if tag != \"DT\"]  # PoS filtering\n",
    "    tokens = [t for t in tokens if t not in stop_words_]  # stop words filtering\n",
    "    tokens = [stemmer.stem(t) for t in tokens]\n",
    "    \n",
    "    return \" \".join(tokens)"
   ]
  },
  {
   "cell_type": "code",
   "execution_count": 63,
   "metadata": {
    "collapsed": false
   },
   "outputs": [
    {
     "data": {
      "text/plain": [
       "'check conform produc consum'"
      ]
     },
     "execution_count": 63,
     "metadata": {},
     "output_type": "execute_result"
    }
   ],
   "source": [
    "nlp_pre_process(papers.title[4])"
   ]
  },
  {
   "cell_type": "code",
   "execution_count": 64,
   "metadata": {
    "collapsed": true
   },
   "outputs": [],
   "source": [
    "def nlp_pre_process_lemm(text):\n",
    "    \"\"\"\n",
    "    Reduces an input text into a list of tokens, \n",
    "    using NLP filterings such as normalization, \n",
    "    PoS and stop word filtering, stemming.\n",
    "    text: (str)\n",
    "    tokens: list(str)\n",
    "    \"\"\"\n",
    "    text = text.lower()  # normalize\n",
    "    tokens = word_tokenize(text)  # tokenize\n",
    "    pos_tags = [pos_tag([t]) for t in tokens]  # PoS tagging\n",
    "    tokens = [[(token, tag)] for [(token, tag)] in pos_tags if tag != \"DT\"]  # PoS filtering\n",
    "    tokens = [[(token, tag)] for [(token, tag)] in tokens if token not in stop_words_]  # stop words filtering\n",
    "    tokens = [lemmatizer.lemmatize(token, tag) for [(token, tag)] in tokens]\n",
    "    \n",
    "    return \" \".join(tokens)"
   ]
  },
  {
   "cell_type": "code",
   "execution_count": null,
   "metadata": {
    "collapsed": true
   },
   "outputs": [],
   "source": []
  }
 ],
 "metadata": {
  "anaconda-cloud": {},
  "kernelspec": {
   "display_name": "Python [ada]",
   "language": "python",
   "name": "Python [ada]"
  },
  "language_info": {
   "codemirror_mode": {
    "name": "ipython",
    "version": 3
   },
   "file_extension": ".py",
   "mimetype": "text/x-python",
   "name": "python",
   "nbconvert_exporter": "python",
   "pygments_lexer": "ipython3",
   "version": "3.5.2"
  }
 },
 "nbformat": 4,
 "nbformat_minor": 0
}
