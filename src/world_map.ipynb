{
 "cells": [
  {
   "cell_type": "markdown",
   "metadata": {},
   "source": [
    "# Evolution of patents in the world"
   ]
  },
  {
   "cell_type": "code",
   "execution_count": 1,
   "metadata": {
    "collapsed": true
   },
   "outputs": [],
   "source": [
    "import pandas as pd"
   ]
  },
  {
   "cell_type": "markdown",
   "metadata": {},
   "source": [
    "Patent authority where the application was filled"
   ]
  },
  {
   "cell_type": "code",
   "execution_count": 76,
   "metadata": {
    "collapsed": false
   },
   "outputs": [],
   "source": [
    "data = pd.read_csv(\"./../data/patents_per_country.csv\", sep=\";\",\n",
    "                  names=[\"country_short\", \"year\", \"n_patents\"])[1:]"
   ]
  },
  {
   "cell_type": "code",
   "execution_count": 77,
   "metadata": {
    "collapsed": false
   },
   "outputs": [
    {
     "data": {
      "text/html": [
       "<div>\n",
       "<table border=\"1\" class=\"dataframe\">\n",
       "  <thead>\n",
       "    <tr style=\"text-align: right;\">\n",
       "      <th></th>\n",
       "      <th>country_short</th>\n",
       "      <th>year</th>\n",
       "      <th>n_patents</th>\n",
       "    </tr>\n",
       "  </thead>\n",
       "  <tbody>\n",
       "    <tr>\n",
       "      <th>1</th>\n",
       "      <td>DK</td>\n",
       "      <td>1967</td>\n",
       "      <td>3305.0</td>\n",
       "    </tr>\n",
       "    <tr>\n",
       "      <th>2</th>\n",
       "      <td>US</td>\n",
       "      <td>1939</td>\n",
       "      <td>44222.0</td>\n",
       "    </tr>\n",
       "    <tr>\n",
       "      <th>3</th>\n",
       "      <td>BG</td>\n",
       "      <td>1989</td>\n",
       "      <td>1360.0</td>\n",
       "    </tr>\n",
       "    <tr>\n",
       "      <th>4</th>\n",
       "      <td>VN</td>\n",
       "      <td>1999</td>\n",
       "      <td>1.0</td>\n",
       "    </tr>\n",
       "    <tr>\n",
       "      <th>5</th>\n",
       "      <td>SU</td>\n",
       "      <td>1911</td>\n",
       "      <td>6.0</td>\n",
       "    </tr>\n",
       "  </tbody>\n",
       "</table>\n",
       "</div>"
      ],
      "text/plain": [
       "  country_short  year  n_patents\n",
       "1            DK  1967     3305.0\n",
       "2            US  1939    44222.0\n",
       "3            BG  1989     1360.0\n",
       "4            VN  1999        1.0\n",
       "5            SU  1911        6.0"
      ]
     },
     "execution_count": 77,
     "metadata": {},
     "output_type": "execute_result"
    }
   ],
   "source": [
    "data.head()"
   ]
  },
  {
   "cell_type": "code",
   "execution_count": 78,
   "metadata": {
    "collapsed": false
   },
   "outputs": [],
   "source": [
    "country_codes = pd.read_csv(\"../data/country_codes.csv\", sep=\";\")"
   ]
  },
  {
   "cell_type": "code",
   "execution_count": 79,
   "metadata": {
    "collapsed": false
   },
   "outputs": [
    {
     "data": {
      "text/html": [
       "<div>\n",
       "<table border=\"1\" class=\"dataframe\">\n",
       "  <thead>\n",
       "    <tr style=\"text-align: right;\">\n",
       "      <th></th>\n",
       "      <th>country</th>\n",
       "      <th>country_short</th>\n",
       "    </tr>\n",
       "  </thead>\n",
       "  <tbody>\n",
       "    <tr>\n",
       "      <th>0</th>\n",
       "      <td>AFGHANISTAN</td>\n",
       "      <td>AF</td>\n",
       "    </tr>\n",
       "    <tr>\n",
       "      <th>1</th>\n",
       "      <td>ALBANIA</td>\n",
       "      <td>AL</td>\n",
       "    </tr>\n",
       "    <tr>\n",
       "      <th>2</th>\n",
       "      <td>ALGERIA</td>\n",
       "      <td>DZ</td>\n",
       "    </tr>\n",
       "    <tr>\n",
       "      <th>3</th>\n",
       "      <td>ANDORRA</td>\n",
       "      <td>AD</td>\n",
       "    </tr>\n",
       "    <tr>\n",
       "      <th>4</th>\n",
       "      <td>ANGOLA</td>\n",
       "      <td>AO</td>\n",
       "    </tr>\n",
       "  </tbody>\n",
       "</table>\n",
       "</div>"
      ],
      "text/plain": [
       "       country country_short\n",
       "0  AFGHANISTAN            AF\n",
       "1      ALBANIA            AL\n",
       "2      ALGERIA            DZ\n",
       "3      ANDORRA            AD\n",
       "4       ANGOLA            AO"
      ]
     },
     "execution_count": 79,
     "metadata": {},
     "output_type": "execute_result"
    }
   ],
   "source": [
    "country_codes.head()"
   ]
  },
  {
   "cell_type": "code",
   "execution_count": 80,
   "metadata": {
    "collapsed": false
   },
   "outputs": [],
   "source": [
    "data = data.merge(country_codes, on='country_short')\n",
    "data.year = pd.to_numeric(data.year)\n",
    "data.n_patents = pd.to_numeric(data.n_patents)"
   ]
  },
  {
   "cell_type": "code",
   "execution_count": 81,
   "metadata": {
    "collapsed": false
   },
   "outputs": [
    {
     "data": {
      "text/html": [
       "<div>\n",
       "<table border=\"1\" class=\"dataframe\">\n",
       "  <thead>\n",
       "    <tr style=\"text-align: right;\">\n",
       "      <th></th>\n",
       "      <th>country_short</th>\n",
       "      <th>year</th>\n",
       "      <th>n_patents</th>\n",
       "      <th>country</th>\n",
       "    </tr>\n",
       "  </thead>\n",
       "  <tbody>\n",
       "    <tr>\n",
       "      <th>0</th>\n",
       "      <td>DK</td>\n",
       "      <td>1967</td>\n",
       "      <td>3305.0</td>\n",
       "      <td>DENMARK</td>\n",
       "    </tr>\n",
       "    <tr>\n",
       "      <th>1</th>\n",
       "      <td>DK</td>\n",
       "      <td>1961</td>\n",
       "      <td>2981.0</td>\n",
       "      <td>DENMARK</td>\n",
       "    </tr>\n",
       "    <tr>\n",
       "      <th>2</th>\n",
       "      <td>DK</td>\n",
       "      <td>1964</td>\n",
       "      <td>3243.0</td>\n",
       "      <td>DENMARK</td>\n",
       "    </tr>\n",
       "    <tr>\n",
       "      <th>3</th>\n",
       "      <td>DK</td>\n",
       "      <td>1970</td>\n",
       "      <td>2914.0</td>\n",
       "      <td>DENMARK</td>\n",
       "    </tr>\n",
       "    <tr>\n",
       "      <th>4</th>\n",
       "      <td>DK</td>\n",
       "      <td>1993</td>\n",
       "      <td>8453.0</td>\n",
       "      <td>DENMARK</td>\n",
       "    </tr>\n",
       "  </tbody>\n",
       "</table>\n",
       "</div>"
      ],
      "text/plain": [
       "  country_short  year  n_patents  country\n",
       "0            DK  1967     3305.0  DENMARK\n",
       "1            DK  1961     2981.0  DENMARK\n",
       "2            DK  1964     3243.0  DENMARK\n",
       "3            DK  1970     2914.0  DENMARK\n",
       "4            DK  1993     8453.0  DENMARK"
      ]
     },
     "execution_count": 81,
     "metadata": {},
     "output_type": "execute_result"
    }
   ],
   "source": [
    "data.head()"
   ]
  },
  {
   "cell_type": "code",
   "execution_count": 182,
   "metadata": {
    "collapsed": false
   },
   "outputs": [
    {
     "data": {
      "text/plain": [
       "70414723.0"
      ]
     },
     "execution_count": 182,
     "metadata": {},
     "output_type": "execute_result"
    }
   ],
   "source": [
    "data.n_patents.sum()"
   ]
  },
  {
   "cell_type": "code",
   "execution_count": 82,
   "metadata": {
    "collapsed": false,
    "scrolled": true
   },
   "outputs": [
    {
     "data": {
      "text/html": [
       "<div>\n",
       "<table border=\"1\" class=\"dataframe\">\n",
       "  <thead>\n",
       "    <tr style=\"text-align: right;\">\n",
       "      <th></th>\n",
       "      <th>n_patents</th>\n",
       "    </tr>\n",
       "    <tr>\n",
       "      <th>country</th>\n",
       "      <th></th>\n",
       "    </tr>\n",
       "  </thead>\n",
       "  <tbody>\n",
       "    <tr>\n",
       "      <th>JAPAN</th>\n",
       "      <td>15316682.0</td>\n",
       "    </tr>\n",
       "    <tr>\n",
       "      <th>UNITED STATES</th>\n",
       "      <td>14948130.0</td>\n",
       "    </tr>\n",
       "    <tr>\n",
       "      <th>GERMANY</th>\n",
       "      <td>5972070.0</td>\n",
       "    </tr>\n",
       "    <tr>\n",
       "      <th>CHINA</th>\n",
       "      <td>5968600.0</td>\n",
       "    </tr>\n",
       "    <tr>\n",
       "      <th>UNITED KINGDOM</th>\n",
       "      <td>3515530.0</td>\n",
       "    </tr>\n",
       "    <tr>\n",
       "      <th>CANADA</th>\n",
       "      <td>3234817.0</td>\n",
       "    </tr>\n",
       "    <tr>\n",
       "      <th>FRANCE</th>\n",
       "      <td>3166705.0</td>\n",
       "    </tr>\n",
       "    <tr>\n",
       "      <th>KOREA, REPUBLIC OF</th>\n",
       "      <td>2992035.0</td>\n",
       "    </tr>\n",
       "    <tr>\n",
       "      <th>AUSTRALIA</th>\n",
       "      <td>1765441.0</td>\n",
       "    </tr>\n",
       "    <tr>\n",
       "      <th>UNION OF SOVIET SOCIALIST REPUBLICS</th>\n",
       "      <td>1390743.0</td>\n",
       "    </tr>\n",
       "    <tr>\n",
       "      <th>AUSTRIA</th>\n",
       "      <td>1152334.0</td>\n",
       "    </tr>\n",
       "    <tr>\n",
       "      <th>SWITZERLAND</th>\n",
       "      <td>1071460.0</td>\n",
       "    </tr>\n",
       "    <tr>\n",
       "      <th>SWEDEN</th>\n",
       "      <td>930482.0</td>\n",
       "    </tr>\n",
       "    <tr>\n",
       "      <th>SPAIN</th>\n",
       "      <td>832585.0</td>\n",
       "    </tr>\n",
       "    <tr>\n",
       "      <th>TAIWAN</th>\n",
       "      <td>726717.0</td>\n",
       "    </tr>\n",
       "    <tr>\n",
       "      <th>RUSSIAN FEDERATION</th>\n",
       "      <td>662171.0</td>\n",
       "    </tr>\n",
       "    <tr>\n",
       "      <th>BELGIUM</th>\n",
       "      <td>651189.0</td>\n",
       "    </tr>\n",
       "    <tr>\n",
       "      <th>ITALY</th>\n",
       "      <td>649564.0</td>\n",
       "    </tr>\n",
       "    <tr>\n",
       "      <th>NETHERLANDS</th>\n",
       "      <td>628484.0</td>\n",
       "    </tr>\n",
       "    <tr>\n",
       "      <th>BRAZIL</th>\n",
       "      <td>536642.0</td>\n",
       "    </tr>\n",
       "    <tr>\n",
       "      <th>DENMARK</th>\n",
       "      <td>478973.0</td>\n",
       "    </tr>\n",
       "    <tr>\n",
       "      <th>SOUTH AFRICA</th>\n",
       "      <td>297812.0</td>\n",
       "    </tr>\n",
       "    <tr>\n",
       "      <th>FINLAND</th>\n",
       "      <td>277812.0</td>\n",
       "    </tr>\n",
       "    <tr>\n",
       "      <th>MEXICO</th>\n",
       "      <td>258383.0</td>\n",
       "    </tr>\n",
       "    <tr>\n",
       "      <th>POLAND</th>\n",
       "      <td>251295.0</td>\n",
       "    </tr>\n",
       "    <tr>\n",
       "      <th>GERMAN DEMOCRATIC REPUBLIC</th>\n",
       "      <td>243371.0</td>\n",
       "    </tr>\n",
       "    <tr>\n",
       "      <th>NORWAY</th>\n",
       "      <td>239167.0</td>\n",
       "    </tr>\n",
       "    <tr>\n",
       "      <th>ISRAEL</th>\n",
       "      <td>236666.0</td>\n",
       "    </tr>\n",
       "    <tr>\n",
       "      <th>CZECHOSLOVAKIA</th>\n",
       "      <td>165723.0</td>\n",
       "    </tr>\n",
       "    <tr>\n",
       "      <th>NEW ZEALAND</th>\n",
       "      <td>145740.0</td>\n",
       "    </tr>\n",
       "    <tr>\n",
       "      <th>...</th>\n",
       "      <td>...</td>\n",
       "    </tr>\n",
       "    <tr>\n",
       "      <th>TANZANIA, UNITED REPUBLIC OF</th>\n",
       "      <td>4.0</td>\n",
       "    </tr>\n",
       "    <tr>\n",
       "      <th>OMAN</th>\n",
       "      <td>4.0</td>\n",
       "    </tr>\n",
       "    <tr>\n",
       "      <th>LESOTHO</th>\n",
       "      <td>4.0</td>\n",
       "    </tr>\n",
       "    <tr>\n",
       "      <th>PAPUA NEW GUINEA</th>\n",
       "      <td>4.0</td>\n",
       "    </tr>\n",
       "    <tr>\n",
       "      <th>SOLOMON ISLANDS</th>\n",
       "      <td>3.0</td>\n",
       "    </tr>\n",
       "    <tr>\n",
       "      <th>ARUBA</th>\n",
       "      <td>3.0</td>\n",
       "    </tr>\n",
       "    <tr>\n",
       "      <th>YEMEN</th>\n",
       "      <td>3.0</td>\n",
       "    </tr>\n",
       "    <tr>\n",
       "      <th>BAHRAIN</th>\n",
       "      <td>3.0</td>\n",
       "    </tr>\n",
       "    <tr>\n",
       "      <th>NAURU</th>\n",
       "      <td>3.0</td>\n",
       "    </tr>\n",
       "    <tr>\n",
       "      <th>AFGHANISTAN</th>\n",
       "      <td>3.0</td>\n",
       "    </tr>\n",
       "    <tr>\n",
       "      <th>MAURITANIA</th>\n",
       "      <td>3.0</td>\n",
       "    </tr>\n",
       "    <tr>\n",
       "      <th>KUWAIT</th>\n",
       "      <td>2.0</td>\n",
       "    </tr>\n",
       "    <tr>\n",
       "      <th>ANGOLA</th>\n",
       "      <td>2.0</td>\n",
       "    </tr>\n",
       "    <tr>\n",
       "      <th>RWANDA</th>\n",
       "      <td>2.0</td>\n",
       "    </tr>\n",
       "    <tr>\n",
       "      <th>TUVALU</th>\n",
       "      <td>2.0</td>\n",
       "    </tr>\n",
       "    <tr>\n",
       "      <th>QATAR</th>\n",
       "      <td>2.0</td>\n",
       "    </tr>\n",
       "    <tr>\n",
       "      <th>GIBRALTAR</th>\n",
       "      <td>2.0</td>\n",
       "    </tr>\n",
       "    <tr>\n",
       "      <th>ETHIOPIA</th>\n",
       "      <td>2.0</td>\n",
       "    </tr>\n",
       "    <tr>\n",
       "      <th>SAO TOME AND PRINCIPE</th>\n",
       "      <td>2.0</td>\n",
       "    </tr>\n",
       "    <tr>\n",
       "      <th>BOTSWANA</th>\n",
       "      <td>2.0</td>\n",
       "    </tr>\n",
       "    <tr>\n",
       "      <th>BELIZE</th>\n",
       "      <td>2.0</td>\n",
       "    </tr>\n",
       "    <tr>\n",
       "      <th>MALI</th>\n",
       "      <td>2.0</td>\n",
       "    </tr>\n",
       "    <tr>\n",
       "      <th>SOMALIA</th>\n",
       "      <td>1.0</td>\n",
       "    </tr>\n",
       "    <tr>\n",
       "      <th>SAINT HELENA</th>\n",
       "      <td>1.0</td>\n",
       "    </tr>\n",
       "    <tr>\n",
       "      <th>MOZAMBIQUE</th>\n",
       "      <td>1.0</td>\n",
       "    </tr>\n",
       "    <tr>\n",
       "      <th>EQUATORIAL GUINEA</th>\n",
       "      <td>1.0</td>\n",
       "    </tr>\n",
       "    <tr>\n",
       "      <th>EAST TIMOR</th>\n",
       "      <td>1.0</td>\n",
       "    </tr>\n",
       "    <tr>\n",
       "      <th>GRENADA</th>\n",
       "      <td>1.0</td>\n",
       "    </tr>\n",
       "    <tr>\n",
       "      <th>GUYANA</th>\n",
       "      <td>1.0</td>\n",
       "    </tr>\n",
       "    <tr>\n",
       "      <th>UGANDA</th>\n",
       "      <td>1.0</td>\n",
       "    </tr>\n",
       "  </tbody>\n",
       "</table>\n",
       "<p>177 rows × 1 columns</p>\n",
       "</div>"
      ],
      "text/plain": [
       "                                      n_patents\n",
       "country                                        \n",
       "JAPAN                                15316682.0\n",
       "UNITED STATES                        14948130.0\n",
       "GERMANY                               5972070.0\n",
       "CHINA                                 5968600.0\n",
       "UNITED KINGDOM                        3515530.0\n",
       "CANADA                                3234817.0\n",
       "FRANCE                                3166705.0\n",
       "KOREA, REPUBLIC OF                    2992035.0\n",
       "AUSTRALIA                             1765441.0\n",
       "UNION OF SOVIET SOCIALIST REPUBLICS   1390743.0\n",
       "AUSTRIA                               1152334.0\n",
       "SWITZERLAND                           1071460.0\n",
       "SWEDEN                                 930482.0\n",
       "SPAIN                                  832585.0\n",
       "TAIWAN                                 726717.0\n",
       "RUSSIAN FEDERATION                     662171.0\n",
       "BELGIUM                                651189.0\n",
       "ITALY                                  649564.0\n",
       "NETHERLANDS                            628484.0\n",
       "BRAZIL                                 536642.0\n",
       "DENMARK                                478973.0\n",
       "SOUTH AFRICA                           297812.0\n",
       "FINLAND                                277812.0\n",
       "MEXICO                                 258383.0\n",
       "POLAND                                 251295.0\n",
       "GERMAN DEMOCRATIC REPUBLIC             243371.0\n",
       "NORWAY                                 239167.0\n",
       "ISRAEL                                 236666.0\n",
       "CZECHOSLOVAKIA                         165723.0\n",
       "NEW ZEALAND                            145740.0\n",
       "...                                         ...\n",
       "TANZANIA, UNITED REPUBLIC OF                4.0\n",
       "OMAN                                        4.0\n",
       "LESOTHO                                     4.0\n",
       "PAPUA NEW GUINEA                            4.0\n",
       "SOLOMON ISLANDS                             3.0\n",
       "ARUBA                                       3.0\n",
       "YEMEN                                       3.0\n",
       "BAHRAIN                                     3.0\n",
       "NAURU                                       3.0\n",
       "AFGHANISTAN                                 3.0\n",
       "MAURITANIA                                  3.0\n",
       "KUWAIT                                      2.0\n",
       "ANGOLA                                      2.0\n",
       "RWANDA                                      2.0\n",
       "TUVALU                                      2.0\n",
       "QATAR                                       2.0\n",
       "GIBRALTAR                                   2.0\n",
       "ETHIOPIA                                    2.0\n",
       "SAO TOME AND PRINCIPE                       2.0\n",
       "BOTSWANA                                    2.0\n",
       "BELIZE                                      2.0\n",
       "MALI                                        2.0\n",
       "SOMALIA                                     1.0\n",
       "SAINT HELENA                                1.0\n",
       "MOZAMBIQUE                                  1.0\n",
       "EQUATORIAL GUINEA                           1.0\n",
       "EAST TIMOR                                  1.0\n",
       "GRENADA                                     1.0\n",
       "GUYANA                                      1.0\n",
       "UGANDA                                      1.0\n",
       "\n",
       "[177 rows x 1 columns]"
      ]
     },
     "execution_count": 82,
     "metadata": {},
     "output_type": "execute_result"
    }
   ],
   "source": [
    "pd.DataFrame(data.groupby(\"country\").n_patents.sum()).sort_values(by=\"n_patents\", axis=0, ascending=False)"
   ]
  },
  {
   "cell_type": "code",
   "execution_count": 101,
   "metadata": {
    "collapsed": false
   },
   "outputs": [],
   "source": [
    "sums = data.groupby([\"country\", \"year\"]).sum()"
   ]
  },
  {
   "cell_type": "code",
   "execution_count": 172,
   "metadata": {
    "collapsed": false
   },
   "outputs": [],
   "source": [
    "%matplotlib inline\n",
    "import matplotlib.pyplot as plt\n",
    "from IPython.core.display import HTML, display\n",
    "from ipywidgets import *"
   ]
  },
  {
   "cell_type": "code",
   "execution_count": 180,
   "metadata": {
    "collapsed": true
   },
   "outputs": [],
   "source": [
    "def plot_per_country(ctry, start_year):\n",
    "    df = pd.DataFrame(sums.loc[(ctry, )])\n",
    "    df = df[df.index <= 2016]\n",
    "    df = df[df.index >= start_year]\n",
    "    plt.plot(df.index, df.n_patents);\n",
    "    #display(HTML(\"<h3> Number of patents from that date : %s </h3>\" % df.n_patents.sum()))\n",
    "    print(\"# of patents from that date :\", df.n_patents.sum())"
   ]
  },
  {
   "cell_type": "code",
   "execution_count": 181,
   "metadata": {
    "collapsed": false
   },
   "outputs": [
    {
     "name": "stdout",
     "output_type": "stream",
     "text": [
      "# of patents from that date : 3188.0\n"
     ]
    },
    {
     "data": {
      "image/png": "[encoded data removed]",
      "text/plain": [
       "<matplotlib.figure.Figure at 0x10987eeb8>"
      ]
     },
     "metadata": {},
     "output_type": "display_data"
    }
   ],
   "source": [
    "display(HTML(\"<h1> Patents number evolution per country </h1>\"))\n",
    "interact(plot_per_country, ctry=list(set([c for c,y in sums.index.values[::-1]])), \n",
    "         start_year=(1950,2016,1))"
   ]
  },
  {
   "cell_type": "code",
   "execution_count": 130,
   "metadata": {
    "collapsed": false
   },
   "outputs": [
    {
     "data": {
      "image/png": "[encoded data removed]",
      "text/plain": [
       "<matplotlib.figure.Figure at 0x10a6e52e8>"
      ]
     },
     "metadata": {},
     "output_type": "display_data"
    }
   ],
   "source": [
    "plot_per_country(\"ISRAEL\")"
   ]
  },
  {
   "cell_type": "code",
   "execution_count": 122,
   "metadata": {
    "collapsed": false
   },
   "outputs": [
    {
     "data": {
      "image/png": "[encoded data removed]",
      "text/plain": [
       "<matplotlib.figure.Figure at 0x10950dc18>"
      ]
     },
     "metadata": {},
     "output_type": "display_data"
    }
   ],
   "source": [
    "plot_per_country(\"\")"
   ]
  },
  {
   "cell_type": "code",
   "execution_count": 95,
   "metadata": {
    "collapsed": false
   },
   "outputs": [],
   "source": [
    "swiss = pd.DataFrame(test.loc[(\"SWITZERLAND\", )])"
   ]
  },
  {
   "cell_type": "code",
   "execution_count": 99,
   "metadata": {
    "collapsed": false
   },
   "outputs": [],
   "source": [
    "swiss = swiss[swiss.index < 2017]"
   ]
  },
  {
   "cell_type": "code",
   "execution_count": 100,
   "metadata": {
    "collapsed": false
   },
   "outputs": [
    {
     "data": {
      "text/plain": [
       "[<matplotlib.lines.Line2D at 0x1096b15f8>]"
      ]
     },
     "execution_count": 100,
     "metadata": {},
     "output_type": "execute_result"
    },
    {
     "data": {
      "image/png": "[encoded data removed]",
      "text/plain": [
       "<matplotlib.figure.Figure at 0x109651518>"
      ]
     },
     "metadata": {},
     "output_type": "display_data"
    }
   ],
   "source": [
    "plt.plot(swiss.index, swiss.n_patents)"
   ]
  },
  {
   "cell_type": "code",
   "execution_count": null,
   "metadata": {
    "collapsed": true
   },
   "outputs": [],
   "source": []
  }
 ],
 "metadata": {
  "kernelspec": {
   "display_name": "Python [ada]",
   "language": "python",
   "name": "Python [ada]"
  },
  "language_info": {
   "codemirror_mode": {
    "name": "ipython",
    "version": 3
   },
   "file_extension": ".py",
   "mimetype": "text/x-python",
   "name": "python",
   "nbconvert_exporter": "python",
   "pygments_lexer": "ipython3",
   "version": "3.5.2"
  },
  "widgets": {
   "state": {
    "12dd89bd9f1c4292be541257763b19d6": {
     "views": [
      {
       "cell_index": 13
      }
     ]
    },
    "3eeb0bcc4fab42c296cb71d78c2b481d": {
     "views": [
      {
       "cell_index": 13
      }
     ]
    },
    "780752d1c5694f2ca6cd04e55519cc49": {
     "views": [
      {
       "cell_index": 13
      }
     ]
    },
    "b443168b0abd409c8a9348211f61a162": {
     "views": [
      {
       "cell_index": 13
      }
     ]
    },
    "b6866ff83da74a259ac399cdd16e3502": {
     "views": [
      {
       "cell_index": 13
      }
     ]
    },
    "cccbc8b91ac545aca38cea49b367ab72": {
     "views": [
      {
       "cell_index": 13
      }
     ]
    },
    "ce2f1b42b19f40cca43ff5f149d94e58": {
     "views": [
      {
       "cell_index": 15
      }
     ]
    },
    "e684d39f5e1b4f568a2160a9344febd2": {
     "views": [
      {
       "cell_index": 13
      }
     ]
    }
   },
   "version": "1.2.0"
  }
 },
 "nbformat": 4,
 "nbformat_minor": 0
}
